{
 "cells": [
  {
   "cell_type": "code",
   "execution_count": 1,
   "id": "667c40ab",
   "metadata": {},
   "outputs": [],
   "source": [
    "import torch\n",
    "from yolov5 import utils"
   ]
  },
  {
   "cell_type": "code",
   "execution_count": 2,
   "id": "b8aa7d9d",
   "metadata": {},
   "outputs": [
    {
     "name": "stdout",
     "output_type": "stream",
     "text": [
      "Requirement already satisfied: matplotlib>=3.2.2 in c:\\users\\user\\anaconda3\\lib\\site-packages (from -r C:\\Users\\user\\yolov5-master\\requirements.txt (line 4)) (3.3.4)\n",
      "Requirement already satisfied: numpy>=1.18.5 in c:\\users\\user\\anaconda3\\lib\\site-packages (from -r C:\\Users\\user\\yolov5-master\\requirements.txt (line 5)) (1.18.5)\n",
      "Requirement already satisfied: opencv-python>=4.1.2 in c:\\users\\user\\anaconda3\\lib\\site-packages (from -r C:\\Users\\user\\yolov5-master\\requirements.txt (line 6)) (4.5.5.64)\n",
      "Requirement already satisfied: Pillow>=7.1.2 in c:\\users\\user\\anaconda3\\lib\\site-packages (from -r C:\\Users\\user\\yolov5-master\\requirements.txt (line 7)) (8.2.0)\n",
      "Requirement already satisfied: PyYAML>=5.3.1 in c:\\users\\user\\anaconda3\\lib\\site-packages (from -r C:\\Users\\user\\yolov5-master\\requirements.txt (line 8)) (5.4.1)\n",
      "Requirement already satisfied: requests>=2.23.0 in c:\\users\\user\\anaconda3\\lib\\site-packages (from -r C:\\Users\\user\\yolov5-master\\requirements.txt (line 9)) (2.25.1)\n",
      "Requirement already satisfied: scipy>=1.4.1 in c:\\users\\user\\anaconda3\\lib\\site-packages (from -r C:\\Users\\user\\yolov5-master\\requirements.txt (line 10)) (1.6.2)\n",
      "Requirement already satisfied: torch>=1.7.0 in c:\\users\\user\\anaconda3\\lib\\site-packages (from -r C:\\Users\\user\\yolov5-master\\requirements.txt (line 11)) (1.11.0)\n",
      "Requirement already satisfied: torchvision>=0.8.1 in c:\\users\\user\\anaconda3\\lib\\site-packages (from -r C:\\Users\\user\\yolov5-master\\requirements.txt (line 12)) (0.12.0)\n",
      "Requirement already satisfied: tqdm>=4.41.0 in c:\\users\\user\\anaconda3\\lib\\site-packages (from -r C:\\Users\\user\\yolov5-master\\requirements.txt (line 13)) (4.59.0)\n",
      "Requirement already satisfied: tensorboard>=2.4.1 in c:\\users\\user\\anaconda3\\lib\\site-packages (from -r C:\\Users\\user\\yolov5-master\\requirements.txt (line 16)) (2.4.1)\n",
      "Requirement already satisfied: pandas>=1.1.4 in c:\\users\\user\\anaconda3\\lib\\site-packages (from -r C:\\Users\\user\\yolov5-master\\requirements.txt (line 20)) (1.2.4)\n",
      "Requirement already satisfied: seaborn>=0.11.0 in c:\\users\\user\\anaconda3\\lib\\site-packages (from -r C:\\Users\\user\\yolov5-master\\requirements.txt (line 21)) (0.11.1)\n",
      "Requirement already satisfied: thop in c:\\users\\user\\anaconda3\\lib\\site-packages (from -r C:\\Users\\user\\yolov5-master\\requirements.txt (line 37)) (0.0.31.post2005241907)\n",
      "Requirement already satisfied: cycler>=0.10 in c:\\users\\user\\anaconda3\\lib\\site-packages (from matplotlib>=3.2.2->-r C:\\Users\\user\\yolov5-master\\requirements.txt (line 4)) (0.10.0)\n",
      "Requirement already satisfied: pyparsing!=2.0.4,!=2.1.2,!=2.1.6,>=2.0.3 in c:\\users\\user\\anaconda3\\lib\\site-packages (from matplotlib>=3.2.2->-r C:\\Users\\user\\yolov5-master\\requirements.txt (line 4)) (2.4.7)\n",
      "Requirement already satisfied: python-dateutil>=2.1 in c:\\users\\user\\anaconda3\\lib\\site-packages (from matplotlib>=3.2.2->-r C:\\Users\\user\\yolov5-master\\requirements.txt (line 4)) (2.8.1)\n",
      "Requirement already satisfied: kiwisolver>=1.0.1 in c:\\users\\user\\anaconda3\\lib\\site-packages (from matplotlib>=3.2.2->-r C:\\Users\\user\\yolov5-master\\requirements.txt (line 4)) (1.3.1)\n",
      "Requirement already satisfied: idna<3,>=2.5 in c:\\users\\user\\anaconda3\\lib\\site-packages (from requests>=2.23.0->-r C:\\Users\\user\\yolov5-master\\requirements.txt (line 9)) (2.10)\n",
      "Requirement already satisfied: chardet<5,>=3.0.2 in c:\\users\\user\\anaconda3\\lib\\site-packages (from requests>=2.23.0->-r C:\\Users\\user\\yolov5-master\\requirements.txt (line 9)) (3.0.4)\n",
      "Requirement already satisfied: certifi>=2017.4.17 in c:\\users\\user\\anaconda3\\lib\\site-packages (from requests>=2.23.0->-r C:\\Users\\user\\yolov5-master\\requirements.txt (line 9)) (2020.12.5)\n",
      "Requirement already satisfied: urllib3<1.27,>=1.21.1 in c:\\users\\user\\anaconda3\\lib\\site-packages (from requests>=2.23.0->-r C:\\Users\\user\\yolov5-master\\requirements.txt (line 9)) (1.26.4)\n",
      "Requirement already satisfied: typing-extensions in c:\\users\\user\\anaconda3\\lib\\site-packages (from torch>=1.7.0->-r C:\\Users\\user\\yolov5-master\\requirements.txt (line 11)) (3.7.4.3)\n",
      "Requirement already satisfied: markdown>=2.6.8 in c:\\users\\user\\appdata\\roaming\\python\\python38\\site-packages (from tensorboard>=2.4.1->-r C:\\Users\\user\\yolov5-master\\requirements.txt (line 16)) (3.3.6)\n",
      "Requirement already satisfied: protobuf>=3.6.0 in c:\\users\\user\\appdata\\roaming\\python\\python38\\site-packages (from tensorboard>=2.4.1->-r C:\\Users\\user\\yolov5-master\\requirements.txt (line 16)) (3.19.1)\n",
      "Requirement already satisfied: google-auth<2,>=1.6.3 in c:\\users\\user\\anaconda3\\lib\\site-packages (from tensorboard>=2.4.1->-r C:\\Users\\user\\yolov5-master\\requirements.txt (line 16)) (1.35.0)\n",
      "Requirement already satisfied: six>=1.10.0 in c:\\users\\user\\anaconda3\\lib\\site-packages (from tensorboard>=2.4.1->-r C:\\Users\\user\\yolov5-master\\requirements.txt (line 16)) (1.15.0)\n",
      "Requirement already satisfied: tensorboard-plugin-wit>=1.6.0 in c:\\users\\user\\appdata\\roaming\\python\\python38\\site-packages (from tensorboard>=2.4.1->-r C:\\Users\\user\\yolov5-master\\requirements.txt (line 16)) (1.8.1)\n",
      "Requirement already satisfied: google-auth-oauthlib<0.5,>=0.4.1 in c:\\users\\user\\appdata\\roaming\\python\\python38\\site-packages (from tensorboard>=2.4.1->-r C:\\Users\\user\\yolov5-master\\requirements.txt (line 16)) (0.4.6)\n",
      "Requirement already satisfied: wheel>=0.26 in c:\\users\\user\\anaconda3\\lib\\site-packages (from tensorboard>=2.4.1->-r C:\\Users\\user\\yolov5-master\\requirements.txt (line 16)) (0.36.2)\n",
      "Requirement already satisfied: setuptools>=41.0.0 in c:\\users\\user\\anaconda3\\lib\\site-packages (from tensorboard>=2.4.1->-r C:\\Users\\user\\yolov5-master\\requirements.txt (line 16)) (52.0.0.post20210125)\n",
      "Requirement already satisfied: werkzeug>=0.11.15 in c:\\users\\user\\anaconda3\\lib\\site-packages (from tensorboard>=2.4.1->-r C:\\Users\\user\\yolov5-master\\requirements.txt (line 16)) (1.0.1)\n",
      "Requirement already satisfied: grpcio>=1.24.3 in c:\\users\\user\\appdata\\roaming\\python\\python38\\site-packages (from tensorboard>=2.4.1->-r C:\\Users\\user\\yolov5-master\\requirements.txt (line 16)) (1.43.0)\n",
      "Requirement already satisfied: absl-py>=0.4 in c:\\users\\user\\appdata\\roaming\\python\\python38\\site-packages (from tensorboard>=2.4.1->-r C:\\Users\\user\\yolov5-master\\requirements.txt (line 16)) (1.0.0)\n",
      "Requirement already satisfied: pytz>=2017.3 in c:\\users\\user\\anaconda3\\lib\\site-packages (from pandas>=1.1.4->-r C:\\Users\\user\\yolov5-master\\requirements.txt (line 20)) (2021.1)\n",
      "Requirement already satisfied: pyasn1-modules>=0.2.1 in c:\\users\\user\\appdata\\roaming\\python\\python38\\site-packages (from google-auth<2,>=1.6.3->tensorboard>=2.4.1->-r C:\\Users\\user\\yolov5-master\\requirements.txt (line 16)) (0.2.8)\n",
      "Requirement already satisfied: rsa<5,>=3.1.4 in c:\\users\\user\\appdata\\roaming\\python\\python38\\site-packages (from google-auth<2,>=1.6.3->tensorboard>=2.4.1->-r C:\\Users\\user\\yolov5-master\\requirements.txt (line 16)) (4.8)\n",
      "Requirement already satisfied: cachetools<5.0,>=2.0.0 in c:\\users\\user\\appdata\\roaming\\python\\python38\\site-packages (from google-auth<2,>=1.6.3->tensorboard>=2.4.1->-r C:\\Users\\user\\yolov5-master\\requirements.txt (line 16)) (4.2.4)\n",
      "Requirement already satisfied: requests-oauthlib>=0.7.0 in c:\\users\\user\\appdata\\roaming\\python\\python38\\site-packages (from google-auth-oauthlib<0.5,>=0.4.1->tensorboard>=2.4.1->-r C:\\Users\\user\\yolov5-master\\requirements.txt (line 16)) (1.3.0)\n",
      "Requirement already satisfied: importlib-metadata>=4.4 in c:\\users\\user\\appdata\\roaming\\python\\python38\\site-packages (from markdown>=2.6.8->tensorboard>=2.4.1->-r C:\\Users\\user\\yolov5-master\\requirements.txt (line 16)) (4.10.0)\n",
      "Requirement already satisfied: zipp>=0.5 in c:\\users\\user\\anaconda3\\lib\\site-packages (from importlib-metadata>=4.4->markdown>=2.6.8->tensorboard>=2.4.1->-r C:\\Users\\user\\yolov5-master\\requirements.txt (line 16)) (3.4.1)\n",
      "Requirement already satisfied: pyasn1<0.5.0,>=0.4.6 in c:\\users\\user\\appdata\\roaming\\python\\python38\\site-packages (from pyasn1-modules>=0.2.1->google-auth<2,>=1.6.3->tensorboard>=2.4.1->-r C:\\Users\\user\\yolov5-master\\requirements.txt (line 16)) (0.4.8)\n",
      "Requirement already satisfied: oauthlib>=3.0.0 in c:\\users\\user\\appdata\\roaming\\python\\python38\\site-packages (from requests-oauthlib>=0.7.0->google-auth-oauthlib<0.5,>=0.4.1->tensorboard>=2.4.1->-r C:\\Users\\user\\yolov5-master\\requirements.txt (line 16)) (3.1.1)\n",
      "Note: you may need to restart the kernel to use updated packages.\n"
     ]
    }
   ],
   "source": [
    "pip install -r C:\\Users\\user\\yolov5-master\\requirements.txt"
   ]
  },
  {
   "cell_type": "code",
   "execution_count": 1,
   "id": "56871ab1",
   "metadata": {},
   "outputs": [
    {
     "name": "stdout",
     "output_type": "stream",
     "text": [
      "^C\n"
     ]
    }
   ],
   "source": [
    "!python train.py --img 640 --batch 16 --epochs 3 --data custom_data.yaml --weights yolov5s.pt --cache"
   ]
  },
  {
   "cell_type": "code",
   "execution_count": null,
   "id": "b6760425",
   "metadata": {},
   "outputs": [],
   "source": []
  }
 ],
 "metadata": {
  "kernelspec": {
   "display_name": "Python 3",
   "language": "python",
   "name": "python3"
  },
  "language_info": {
   "codemirror_mode": {
    "name": "ipython",
    "version": 3
   },
   "file_extension": ".py",
   "mimetype": "text/x-python",
   "name": "python",
   "nbconvert_exporter": "python",
   "pygments_lexer": "ipython3",
   "version": "3.8.8"
  }
 },
 "nbformat": 4,
 "nbformat_minor": 5
}
