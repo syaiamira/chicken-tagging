{
 "cells": [
  {
   "cell_type": "code",
   "execution_count": 2,
   "id": "263b14ff",
   "metadata": {},
   "outputs": [],
   "source": [
    "import torch\n",
    "from yolov5 import utils"
   ]
  },
  {
   "cell_type": "code",
   "execution_count": 4,
   "id": "1ad7bbb0",
   "metadata": {},
   "outputs": [
    {
     "name": "stderr",
     "output_type": "stream",
     "text": [
      "Cloning into 'yolov5'...\n"
     ]
    }
   ],
   "source": [
    "!git clone https://github.com/ultralytics/yolov5"
   ]
  },
  {
   "cell_type": "code",
   "execution_count": 3,
   "id": "be5d5b24",
   "metadata": {
    "scrolled": true
   },
   "outputs": [
    {
     "name": "stdout",
     "output_type": "stream",
     "text": [
      "[WinError 2] The system cannot find the file specified: 'yolov5'\n",
      "C:\\Users\\user\\yolov5-master\\yolov5\n"
     ]
    }
   ],
   "source": [
    "%cd yolov5"
   ]
  },
  {
   "cell_type": "code",
   "execution_count": 4,
   "id": "8d3e78e8",
   "metadata": {
    "scrolled": false
   },
   "outputs": [
    {
     "name": "stdout",
     "output_type": "stream",
     "text": [
      "Requirement already satisfied: matplotlib>=3.2.2 in c:\\users\\user\\anaconda3\\lib\\site-packages (from -r C:\\Users\\user\\Downloads\\yolov5-master-20220406T013116Z-001\\yolov5-master\\requirements.txt (line 4)) (3.3.4)\n",
      "Requirement already satisfied: numpy>=1.18.5 in c:\\users\\user\\anaconda3\\lib\\site-packages (from -r C:\\Users\\user\\Downloads\\yolov5-master-20220406T013116Z-001\\yolov5-master\\requirements.txt (line 5)) (1.20.1)\n",
      "Collecting opencv-python>=4.1.2\n",
      "  Downloading opencv_python-4.5.5.64-cp36-abi3-win_amd64.whl (35.4 MB)\n",
      "Requirement already satisfied: Pillow>=7.1.2 in c:\\users\\user\\anaconda3\\lib\\site-packages (from -r C:\\Users\\user\\Downloads\\yolov5-master-20220406T013116Z-001\\yolov5-master\\requirements.txt (line 7)) (8.2.0)\n",
      "Requirement already satisfied: PyYAML>=5.3.1 in c:\\users\\user\\anaconda3\\lib\\site-packages (from -r C:\\Users\\user\\Downloads\\yolov5-master-20220406T013116Z-001\\yolov5-master\\requirements.txt (line 8)) (5.4.1)\n",
      "Requirement already satisfied: requests>=2.23.0 in c:\\users\\user\\anaconda3\\lib\\site-packages (from -r C:\\Users\\user\\Downloads\\yolov5-master-20220406T013116Z-001\\yolov5-master\\requirements.txt (line 9)) (2.25.1)\n",
      "Requirement already satisfied: scipy>=1.4.1 in c:\\users\\user\\anaconda3\\lib\\site-packages (from -r C:\\Users\\user\\Downloads\\yolov5-master-20220406T013116Z-001\\yolov5-master\\requirements.txt (line 10)) (1.6.2)\n",
      "Requirement already satisfied: torch>=1.7.0 in c:\\users\\user\\anaconda3\\lib\\site-packages (from -r C:\\Users\\user\\Downloads\\yolov5-master-20220406T013116Z-001\\yolov5-master\\requirements.txt (line 11)) (1.11.0)\n",
      "Collecting torchvision>=0.8.1\n",
      "  Downloading torchvision-0.12.0-cp38-cp38-win_amd64.whl (1.0 MB)\n",
      "Requirement already satisfied: tqdm>=4.41.0 in c:\\users\\user\\anaconda3\\lib\\site-packages (from -r C:\\Users\\user\\Downloads\\yolov5-master-20220406T013116Z-001\\yolov5-master\\requirements.txt (line 13)) (4.59.0)\n",
      "Requirement already satisfied: tensorboard>=2.4.1 in c:\\users\\user\\appdata\\roaming\\python\\python38\\site-packages (from -r C:\\Users\\user\\Downloads\\yolov5-master-20220406T013116Z-001\\yolov5-master\\requirements.txt (line 16)) (2.7.0)\n",
      "Requirement already satisfied: pandas>=1.1.4 in c:\\users\\user\\anaconda3\\lib\\site-packages (from -r C:\\Users\\user\\Downloads\\yolov5-master-20220406T013116Z-001\\yolov5-master\\requirements.txt (line 20)) (1.2.4)\n",
      "Requirement already satisfied: seaborn>=0.11.0 in c:\\users\\user\\anaconda3\\lib\\site-packages (from -r C:\\Users\\user\\Downloads\\yolov5-master-20220406T013116Z-001\\yolov5-master\\requirements.txt (line 21)) (0.11.1)\n",
      "Collecting thop\n",
      "  Downloading thop-0.0.31.post2005241907-py3-none-any.whl (8.7 kB)\n",
      "Requirement already satisfied: cycler>=0.10 in c:\\users\\user\\anaconda3\\lib\\site-packages (from matplotlib>=3.2.2->-r C:\\Users\\user\\Downloads\\yolov5-master-20220406T013116Z-001\\yolov5-master\\requirements.txt (line 4)) (0.10.0)\n",
      "Requirement already satisfied: kiwisolver>=1.0.1 in c:\\users\\user\\anaconda3\\lib\\site-packages (from matplotlib>=3.2.2->-r C:\\Users\\user\\Downloads\\yolov5-master-20220406T013116Z-001\\yolov5-master\\requirements.txt (line 4)) (1.3.1)\n",
      "Requirement already satisfied: python-dateutil>=2.1 in c:\\users\\user\\anaconda3\\lib\\site-packages (from matplotlib>=3.2.2->-r C:\\Users\\user\\Downloads\\yolov5-master-20220406T013116Z-001\\yolov5-master\\requirements.txt (line 4)) (2.8.1)\n",
      "Requirement already satisfied: pyparsing!=2.0.4,!=2.1.2,!=2.1.6,>=2.0.3 in c:\\users\\user\\anaconda3\\lib\\site-packages (from matplotlib>=3.2.2->-r C:\\Users\\user\\Downloads\\yolov5-master-20220406T013116Z-001\\yolov5-master\\requirements.txt (line 4)) (2.4.7)\n",
      "Requirement already satisfied: pytz>=2017.3 in c:\\users\\user\\anaconda3\\lib\\site-packages (from pandas>=1.1.4->-r C:\\Users\\user\\Downloads\\yolov5-master-20220406T013116Z-001\\yolov5-master\\requirements.txt (line 20)) (2021.1)\n",
      "Requirement already satisfied: chardet<5,>=3.0.2 in c:\\users\\user\\anaconda3\\lib\\site-packages (from requests>=2.23.0->-r C:\\Users\\user\\Downloads\\yolov5-master-20220406T013116Z-001\\yolov5-master\\requirements.txt (line 9)) (3.0.4)\n",
      "Requirement already satisfied: idna<3,>=2.5 in c:\\users\\user\\anaconda3\\lib\\site-packages (from requests>=2.23.0->-r C:\\Users\\user\\Downloads\\yolov5-master-20220406T013116Z-001\\yolov5-master\\requirements.txt (line 9)) (2.10)\n",
      "Requirement already satisfied: urllib3<1.27,>=1.21.1 in c:\\users\\user\\anaconda3\\lib\\site-packages (from requests>=2.23.0->-r C:\\Users\\user\\Downloads\\yolov5-master-20220406T013116Z-001\\yolov5-master\\requirements.txt (line 9)) (1.26.4)\n",
      "Requirement already satisfied: certifi>=2017.4.17 in c:\\users\\user\\anaconda3\\lib\\site-packages (from requests>=2.23.0->-r C:\\Users\\user\\Downloads\\yolov5-master-20220406T013116Z-001\\yolov5-master\\requirements.txt (line 9)) (2020.12.5)\n",
      "Requirement already satisfied: tensorboard-plugin-wit>=1.6.0 in c:\\users\\user\\appdata\\roaming\\python\\python38\\site-packages (from tensorboard>=2.4.1->-r C:\\Users\\user\\Downloads\\yolov5-master-20220406T013116Z-001\\yolov5-master\\requirements.txt (line 16)) (1.8.1)\n",
      "Requirement already satisfied: tensorboard-data-server<0.7.0,>=0.6.0 in c:\\users\\user\\appdata\\roaming\\python\\python38\\site-packages (from tensorboard>=2.4.1->-r C:\\Users\\user\\Downloads\\yolov5-master-20220406T013116Z-001\\yolov5-master\\requirements.txt (line 16)) (0.6.1)\n",
      "Requirement already satisfied: google-auth-oauthlib<0.5,>=0.4.1 in c:\\users\\user\\appdata\\roaming\\python\\python38\\site-packages (from tensorboard>=2.4.1->-r C:\\Users\\user\\Downloads\\yolov5-master-20220406T013116Z-001\\yolov5-master\\requirements.txt (line 16)) (0.4.6)\n",
      "Requirement already satisfied: absl-py>=0.4 in c:\\users\\user\\appdata\\roaming\\python\\python38\\site-packages (from tensorboard>=2.4.1->-r C:\\Users\\user\\Downloads\\yolov5-master-20220406T013116Z-001\\yolov5-master\\requirements.txt (line 16)) (1.0.0)\n",
      "Requirement already satisfied: setuptools>=41.0.0 in c:\\users\\user\\anaconda3\\lib\\site-packages (from tensorboard>=2.4.1->-r C:\\Users\\user\\Downloads\\yolov5-master-20220406T013116Z-001\\yolov5-master\\requirements.txt (line 16)) (52.0.0.post20210125)\n",
      "Requirement already satisfied: markdown>=2.6.8 in c:\\users\\user\\appdata\\roaming\\python\\python38\\site-packages (from tensorboard>=2.4.1->-r C:\\Users\\user\\Downloads\\yolov5-master-20220406T013116Z-001\\yolov5-master\\requirements.txt (line 16)) (3.3.6)\n",
      "Requirement already satisfied: werkzeug>=0.11.15 in c:\\users\\user\\anaconda3\\lib\\site-packages (from tensorboard>=2.4.1->-r C:\\Users\\user\\Downloads\\yolov5-master-20220406T013116Z-001\\yolov5-master\\requirements.txt (line 16)) (1.0.1)\n",
      "Requirement already satisfied: protobuf>=3.6.0 in c:\\users\\user\\appdata\\roaming\\python\\python38\\site-packages (from tensorboard>=2.4.1->-r C:\\Users\\user\\Downloads\\yolov5-master-20220406T013116Z-001\\yolov5-master\\requirements.txt (line 16)) (3.19.1)\n",
      "Requirement already satisfied: grpcio>=1.24.3 in c:\\users\\user\\appdata\\roaming\\python\\python38\\site-packages (from tensorboard>=2.4.1->-r C:\\Users\\user\\Downloads\\yolov5-master-20220406T013116Z-001\\yolov5-master\\requirements.txt (line 16)) (1.43.0)\n",
      "Requirement already satisfied: wheel>=0.26 in c:\\users\\user\\anaconda3\\lib\\site-packages (from tensorboard>=2.4.1->-r C:\\Users\\user\\Downloads\\yolov5-master-20220406T013116Z-001\\yolov5-master\\requirements.txt (line 16)) (0.36.2)\n",
      "Requirement already satisfied: google-auth<3,>=1.6.3 in c:\\users\\user\\appdata\\roaming\\python\\python38\\site-packages (from tensorboard>=2.4.1->-r C:\\Users\\user\\Downloads\\yolov5-master-20220406T013116Z-001\\yolov5-master\\requirements.txt (line 16)) (2.3.3)\n",
      "Requirement already satisfied: typing-extensions in c:\\users\\user\\anaconda3\\lib\\site-packages (from torch>=1.7.0->-r C:\\Users\\user\\Downloads\\yolov5-master-20220406T013116Z-001\\yolov5-master\\requirements.txt (line 11)) (3.7.4.3)\n",
      "Requirement already satisfied: six in c:\\users\\user\\anaconda3\\lib\\site-packages (from absl-py>=0.4->tensorboard>=2.4.1->-r C:\\Users\\user\\Downloads\\yolov5-master-20220406T013116Z-001\\yolov5-master\\requirements.txt (line 16)) (1.15.0)\n",
      "Requirement already satisfied: pyasn1-modules>=0.2.1 in c:\\users\\user\\appdata\\roaming\\python\\python38\\site-packages (from google-auth<3,>=1.6.3->tensorboard>=2.4.1->-r C:\\Users\\user\\Downloads\\yolov5-master-20220406T013116Z-001\\yolov5-master\\requirements.txt (line 16)) (0.2.8)\n",
      "Requirement already satisfied: cachetools<5.0,>=2.0.0 in c:\\users\\user\\appdata\\roaming\\python\\python38\\site-packages (from google-auth<3,>=1.6.3->tensorboard>=2.4.1->-r C:\\Users\\user\\Downloads\\yolov5-master-20220406T013116Z-001\\yolov5-master\\requirements.txt (line 16)) (4.2.4)\n",
      "Requirement already satisfied: rsa<5,>=3.1.4 in c:\\users\\user\\appdata\\roaming\\python\\python38\\site-packages (from google-auth<3,>=1.6.3->tensorboard>=2.4.1->-r C:\\Users\\user\\Downloads\\yolov5-master-20220406T013116Z-001\\yolov5-master\\requirements.txt (line 16)) (4.8)\n",
      "Requirement already satisfied: requests-oauthlib>=0.7.0 in c:\\users\\user\\appdata\\roaming\\python\\python38\\site-packages (from google-auth-oauthlib<0.5,>=0.4.1->tensorboard>=2.4.1->-r C:\\Users\\user\\Downloads\\yolov5-master-20220406T013116Z-001\\yolov5-master\\requirements.txt (line 16)) (1.3.0)\n",
      "Requirement already satisfied: importlib-metadata>=4.4 in c:\\users\\user\\appdata\\roaming\\python\\python38\\site-packages (from markdown>=2.6.8->tensorboard>=2.4.1->-r C:\\Users\\user\\Downloads\\yolov5-master-20220406T013116Z-001\\yolov5-master\\requirements.txt (line 16)) (4.10.0)\n",
      "Requirement already satisfied: zipp>=0.5 in c:\\users\\user\\anaconda3\\lib\\site-packages (from importlib-metadata>=4.4->markdown>=2.6.8->tensorboard>=2.4.1->-r C:\\Users\\user\\Downloads\\yolov5-master-20220406T013116Z-001\\yolov5-master\\requirements.txt (line 16)) (3.4.1)\n",
      "Requirement already satisfied: pyasn1<0.5.0,>=0.4.6 in c:\\users\\user\\appdata\\roaming\\python\\python38\\site-packages (from pyasn1-modules>=0.2.1->google-auth<3,>=1.6.3->tensorboard>=2.4.1->-r C:\\Users\\user\\Downloads\\yolov5-master-20220406T013116Z-001\\yolov5-master\\requirements.txt (line 16)) (0.4.8)\n",
      "Requirement already satisfied: oauthlib>=3.0.0 in c:\\users\\user\\appdata\\roaming\\python\\python38\\site-packages (from requests-oauthlib>=0.7.0->google-auth-oauthlib<0.5,>=0.4.1->tensorboard>=2.4.1->-r C:\\Users\\user\\Downloads\\yolov5-master-20220406T013116Z-001\\yolov5-master\\requirements.txt (line 16)) (3.1.1)\n",
      "Installing collected packages: torchvision, thop, opencv-python\n",
      "Successfully installed opencv-python-4.5.5.64 thop-0.0.31.post2005241907 torchvision-0.12.0\n",
      "Note: you may need to restart the kernel to use updated packages.\n"
     ]
    }
   ],
   "source": [
    "pip install -r C:\\Users\\user\\Downloads\\yolov5-master-20220406T013116Z-001\\yolov5-master\\requirements.txt"
   ]
  },
  {
   "cell_type": "code",
   "execution_count": 4,
   "id": "62f79254",
   "metadata": {},
   "outputs": [
    {
     "name": "stderr",
     "output_type": "stream",
     "text": [
      "\u001b[34m\u001b[1mtrain: \u001b[0mweights=yolov5s.pt, cfg=, data=custom_data.yaml, hyp=data\\hyps\\hyp.scratch-low.yaml, epochs=60, batch_size=16, imgsz=640, rect=False, resume=False, nosave=False, noval=False, noautoanchor=False, evolve=None, bucket=, cache=ram, image_weights=False, device=, multi_scale=False, single_cls=False, optimizer=SGD, sync_bn=False, workers=8, project=runs\\train, name=exp, exist_ok=False, quad=False, cos_lr=False, label_smoothing=0.0, patience=100, freeze=[0], save_period=-1, local_rank=-1, entity=None, upload_dataset=False, bbox_interval=-1, artifact_alias=latest\n",
      "\u001b[34m\u001b[1mgithub: \u001b[0mup to date with https://github.com/ultralytics/yolov5 \n",
      "Traceback (most recent call last):\n",
      "  File \"train.py\", line 666, in <module>\n",
      "    main(opt)\n",
      "  File \"train.py\", line 536, in main\n",
      "    check_file(opt.data), check_yaml(opt.cfg), check_yaml(opt.hyp), str(opt.weights), str(opt.project)  # checks\n",
      "  File \"C:\\Users\\user\\yolov5-master\\yolov5\\utils\\general.py\", line 421, in check_file\n",
      "    assert len(files), f'File not found: {file}'  # assert file was found\n",
      "AssertionError: File not found: custom_data.yaml\n"
     ]
    }
   ],
   "source": [
    "# Train YOLOv5s on COCO128 for 3 epochs\n",
    "!python train.py --img 640 --batch 16 --epochs 60 --data custom_data.yaml --weights yolov5s.pt --cache"
   ]
  },
  {
   "cell_type": "code",
   "execution_count": null,
   "id": "7be2f70c",
   "metadata": {},
   "outputs": [],
   "source": []
  }
 ],
 "metadata": {
  "kernelspec": {
   "display_name": "Python 3",
   "language": "python",
   "name": "python3"
  },
  "language_info": {
   "codemirror_mode": {
    "name": "ipython",
    "version": 3
   },
   "file_extension": ".py",
   "mimetype": "text/x-python",
   "name": "python",
   "nbconvert_exporter": "python",
   "pygments_lexer": "ipython3",
   "version": "3.8.8"
  }
 },
 "nbformat": 4,
 "nbformat_minor": 5
}
